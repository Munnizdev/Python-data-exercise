{
 "cells": [
  {
   "cell_type": "markdown",
   "metadata": {},
   "source": [
    "# Análise Exploratória dos Microdados do ENEM"
   ]
  },
  {
   "cell_type": "markdown",
   "metadata": {},
   "source": [
    "- Neste notebook, realizarei a análise exploratória dos microdados do ENEM 2022. \n",
    "- O objetivo consiste em desvendar padrões e insights sobre aspectos socioeconômicos e educacionais do Brasil e do exame, que tem papel imprescindível na sociedade.\n",
    "- Para isso, técnicas de análise, exploração, limpeza e visualização de dados serão aplicadas. \n",
    "\n",
    "\n",
    "**Perguntas respondidas na Análise de Desempenho:**\n",
    "\n",
    "- Como a escolaridade do pai e da mãe influenciam a nota geral do candidato?\n",
    "- Como a renda influencia o desempenho do candidato?\n",
    "\n",
    "**Sobre o ENEM:**\n",
    "- O Exame Nacional do Ensino Médio (ENEM) tem como objetivo primordial aferir se aqueles que dele participam demonstram, ao final do ensino médio, individualmente, domínio dos princípios científicos e tecnológicos que presidem a produção moderna e se detêm conhecimento das formas contemporâneas de linguagem.  \n",
    "- A estrutura conta com 4 (quatro) provas objetivas, uma de cada área do conhecimento, contendo 45 (quarenta  e  cinco) questões de múltipla escolha e uma redação.\n",
    "- Descrição das Áreas de Conhecimento e Componentes Curriculares do ENEM: Linguagens, Códigos e suas tecnologias (Língua Portuguesa, Literatura, Língua Estrangeira, Artes, Educação Física e Tecnologias da Informação e Comunicação), Ciências Humanas e suas tecnologias (História, Geografia, Filosofia e Sociologia), Ciências da Natureza e suas tecnologias (Química, Física e Biologia), Matemática e suas tecnologias (Matemática).\n",
    "\n",
    "**Sobre os microdados:**\n",
    "- Os microdados se constituem no menor nível de desagregação de dados recolhidos por pesquisas, avaliações e exames realizados. No caso do ENEM, os dados estão por participante. Nunca constaram nos dados divulgados quaisquer variáveis que permitissem a identificação direta do  participante, tais como nome, logradouro do endereço, e-mail, número do CPF, data de nascimento, dentre outras. Inclusive, o próprio número de inscrição real do participante é substituído por uma máscara gerada sequencialmente. Tratam-se, portanto, de dados anonimizados."
   ]
  },
  {
   "cell_type": "markdown",
   "metadata": {},
   "source": [
    "# Bibliotecas\n",
    "\n",
    "Importando o pacote <strong>Pandas</strong> único que será utilizado nesse workshop:\n",
    "\n",
    "<em>Documentação do Pandas</em>: https://pandas.pydata.org/pandas-docs/stable/index.html"
   ]
  },
  {
   "cell_type": "code",
   "execution_count": 1,
   "metadata": {},
   "outputs": [],
   "source": [
    "import pandas as pd"
   ]
  },
  {
   "cell_type": "markdown",
   "metadata": {},
   "source": [
    "# 1. Leitura dos dados"
   ]
  },
  {
   "cell_type": "code",
   "execution_count": 73,
   "metadata": {},
   "outputs": [],
   "source": [
    "microdadosEnem = pd.concat([\n",
    "    pd.read_csv('../data/microdadosEnem_sp_part1.csv', sep=',', encoding='ISO-8859-1'),\n",
    "    pd.read_csv('../data/microdadosEnem_sp_part2.csv', sep=',', encoding='ISO-8859-1')\n",
    "])"
   ]
  },
  {
   "cell_type": "markdown",
   "metadata": {},
   "source": [
    "Podemos usar o método `.head()` para extrair as 5 primeiras linhas do dataframe"
   ]
  },
  {
   "cell_type": "code",
   "execution_count": 74,
   "metadata": {
    "scrolled": true
   },
   "outputs": [
    {
     "data": {
      "text/html": [
       "<div>\n",
       "<style scoped>\n",
       "    .dataframe tbody tr th:only-of-type {\n",
       "        vertical-align: middle;\n",
       "    }\n",
       "\n",
       "    .dataframe tbody tr th {\n",
       "        vertical-align: top;\n",
       "    }\n",
       "\n",
       "    .dataframe thead th {\n",
       "        text-align: right;\n",
       "    }\n",
       "</style>\n",
       "<table border=\"1\" class=\"dataframe\">\n",
       "  <thead>\n",
       "    <tr style=\"text-align: right;\">\n",
       "      <th></th>\n",
       "      <th>NU_INSCRICAO</th>\n",
       "      <th>NU_ANO</th>\n",
       "      <th>TP_FAIXA_ETARIA</th>\n",
       "      <th>TP_SEXO</th>\n",
       "      <th>TP_ESTADO_CIVIL</th>\n",
       "      <th>TP_COR_RACA</th>\n",
       "      <th>TP_NACIONALIDADE</th>\n",
       "      <th>TP_ST_CONCLUSAO</th>\n",
       "      <th>TP_ANO_CONCLUIU</th>\n",
       "      <th>TP_ESCOLA</th>\n",
       "      <th>...</th>\n",
       "      <th>Q018</th>\n",
       "      <th>Q019</th>\n",
       "      <th>Q020</th>\n",
       "      <th>Q021</th>\n",
       "      <th>Q022</th>\n",
       "      <th>Q023</th>\n",
       "      <th>Q024</th>\n",
       "      <th>Q025</th>\n",
       "      <th>Q026</th>\n",
       "      <th>Q027</th>\n",
       "    </tr>\n",
       "  </thead>\n",
       "  <tbody>\n",
       "    <tr>\n",
       "      <th>0</th>\n",
       "      <td>180007186683</td>\n",
       "      <td>2018</td>\n",
       "      <td>1</td>\n",
       "      <td>F</td>\n",
       "      <td>0.0</td>\n",
       "      <td>3</td>\n",
       "      <td>1</td>\n",
       "      <td>2</td>\n",
       "      <td>0</td>\n",
       "      <td>4</td>\n",
       "      <td>...</td>\n",
       "      <td>B</td>\n",
       "      <td>B</td>\n",
       "      <td>A</td>\n",
       "      <td>B</td>\n",
       "      <td>D</td>\n",
       "      <td>B</td>\n",
       "      <td>B</td>\n",
       "      <td>B</td>\n",
       "      <td>B</td>\n",
       "      <td>B</td>\n",
       "    </tr>\n",
       "    <tr>\n",
       "      <th>1</th>\n",
       "      <td>180007186724</td>\n",
       "      <td>2018</td>\n",
       "      <td>3</td>\n",
       "      <td>F</td>\n",
       "      <td>0.0</td>\n",
       "      <td>1</td>\n",
       "      <td>1</td>\n",
       "      <td>2</td>\n",
       "      <td>0</td>\n",
       "      <td>2</td>\n",
       "      <td>...</td>\n",
       "      <td>B</td>\n",
       "      <td>C</td>\n",
       "      <td>B</td>\n",
       "      <td>A</td>\n",
       "      <td>E</td>\n",
       "      <td>B</td>\n",
       "      <td>B</td>\n",
       "      <td>B</td>\n",
       "      <td>B</td>\n",
       "      <td>A</td>\n",
       "    </tr>\n",
       "    <tr>\n",
       "      <th>2</th>\n",
       "      <td>180007186784</td>\n",
       "      <td>2018</td>\n",
       "      <td>2</td>\n",
       "      <td>F</td>\n",
       "      <td>0.0</td>\n",
       "      <td>3</td>\n",
       "      <td>1</td>\n",
       "      <td>2</td>\n",
       "      <td>0</td>\n",
       "      <td>2</td>\n",
       "      <td>...</td>\n",
       "      <td>B</td>\n",
       "      <td>E</td>\n",
       "      <td>B</td>\n",
       "      <td>B</td>\n",
       "      <td>E</td>\n",
       "      <td>A</td>\n",
       "      <td>B</td>\n",
       "      <td>B</td>\n",
       "      <td>B</td>\n",
       "      <td>A</td>\n",
       "    </tr>\n",
       "    <tr>\n",
       "      <th>3</th>\n",
       "      <td>180007186810</td>\n",
       "      <td>2018</td>\n",
       "      <td>2</td>\n",
       "      <td>F</td>\n",
       "      <td>0.0</td>\n",
       "      <td>3</td>\n",
       "      <td>1</td>\n",
       "      <td>2</td>\n",
       "      <td>0</td>\n",
       "      <td>2</td>\n",
       "      <td>...</td>\n",
       "      <td>B</td>\n",
       "      <td>B</td>\n",
       "      <td>B</td>\n",
       "      <td>A</td>\n",
       "      <td>B</td>\n",
       "      <td>B</td>\n",
       "      <td>A</td>\n",
       "      <td>B</td>\n",
       "      <td>B</td>\n",
       "      <td>A</td>\n",
       "    </tr>\n",
       "    <tr>\n",
       "      <th>4</th>\n",
       "      <td>180007186820</td>\n",
       "      <td>2018</td>\n",
       "      <td>2</td>\n",
       "      <td>M</td>\n",
       "      <td>0.0</td>\n",
       "      <td>3</td>\n",
       "      <td>1</td>\n",
       "      <td>2</td>\n",
       "      <td>0</td>\n",
       "      <td>2</td>\n",
       "      <td>...</td>\n",
       "      <td>A</td>\n",
       "      <td>C</td>\n",
       "      <td>B</td>\n",
       "      <td>A</td>\n",
       "      <td>B</td>\n",
       "      <td>B</td>\n",
       "      <td>B</td>\n",
       "      <td>B</td>\n",
       "      <td>B</td>\n",
       "      <td>A</td>\n",
       "    </tr>\n",
       "  </tbody>\n",
       "</table>\n",
       "<p>5 rows × 78 columns</p>\n",
       "</div>"
      ],
      "text/plain": [
       "   NU_INSCRICAO  NU_ANO  TP_FAIXA_ETARIA TP_SEXO  TP_ESTADO_CIVIL  \\\n",
       "0  180007186683    2018                1       F              0.0   \n",
       "1  180007186724    2018                3       F              0.0   \n",
       "2  180007186784    2018                2       F              0.0   \n",
       "3  180007186810    2018                2       F              0.0   \n",
       "4  180007186820    2018                2       M              0.0   \n",
       "\n",
       "   TP_COR_RACA  TP_NACIONALIDADE  TP_ST_CONCLUSAO  TP_ANO_CONCLUIU  TP_ESCOLA  \\\n",
       "0            3                 1                2                0          4   \n",
       "1            1                 1                2                0          2   \n",
       "2            3                 1                2                0          2   \n",
       "3            3                 1                2                0          2   \n",
       "4            3                 1                2                0          2   \n",
       "\n",
       "   ...  Q018  Q019  Q020 Q021  Q022 Q023  Q024  Q025  Q026  Q027  \n",
       "0  ...     B     B     A    B     D    B     B     B     B     B  \n",
       "1  ...     B     C     B    A     E    B     B     B     B     A  \n",
       "2  ...     B     E     B    B     E    A     B     B     B     A  \n",
       "3  ...     B     B     B    A     B    B     A     B     B     A  \n",
       "4  ...     A     C     B    A     B    B     B     B     B     A  \n",
       "\n",
       "[5 rows x 78 columns]"
      ]
     },
     "execution_count": 74,
     "metadata": {},
     "output_type": "execute_result"
    }
   ],
   "source": [
    "microdadosEnem.head()"
   ]
  },
  {
   "cell_type": "markdown",
   "metadata": {},
   "source": [
    "O `.columns` nos mostra a lista de colunas presentes nos nossos dados"
   ]
  },
  {
   "cell_type": "code",
   "execution_count": 75,
   "metadata": {},
   "outputs": [
    {
     "data": {
      "text/plain": [
       "array(['NU_INSCRICAO', 'NU_ANO', 'TP_FAIXA_ETARIA', 'TP_SEXO',\n",
       "       'TP_ESTADO_CIVIL', 'TP_COR_RACA', 'TP_NACIONALIDADE',\n",
       "       'TP_ST_CONCLUSAO', 'TP_ANO_CONCLUIU', 'TP_ESCOLA', 'TP_ENSINO',\n",
       "       'IN_TREINEIRO', 'CO_MUNICIPIO_ESC', 'NO_MUNICIPIO_ESC',\n",
       "       'CO_UF_ESC', 'SG_UF_ESC', 'TP_DEPENDENCIA_ADM_ESC',\n",
       "       'TP_LOCALIZACAO_ESC', 'TP_SIT_FUNC_ESC', 'CO_MUNICIPIO_PROVA',\n",
       "       'NO_MUNICIPIO_PROVA', 'CO_UF_PROVA', 'SG_UF_PROVA',\n",
       "       'TP_PRESENCA_CN', 'TP_PRESENCA_CH', 'TP_PRESENCA_LC',\n",
       "       'TP_PRESENCA_MT', 'CO_PROVA_CN', 'CO_PROVA_CH', 'CO_PROVA_LC',\n",
       "       'CO_PROVA_MT', 'NU_NOTA_CN', 'NU_NOTA_CH', 'NU_NOTA_LC',\n",
       "       'NU_NOTA_MT', 'TX_RESPOSTAS_CN', 'TX_RESPOSTAS_CH',\n",
       "       'TX_RESPOSTAS_LC', 'TX_RESPOSTAS_MT', 'TP_LINGUA',\n",
       "       'TX_GABARITO_CN', 'TX_GABARITO_CH', 'TX_GABARITO_LC',\n",
       "       'TX_GABARITO_MT', 'TP_STATUS_REDACAO', 'NU_NOTA_COMP1',\n",
       "       'NU_NOTA_COMP2', 'NU_NOTA_COMP3', 'NU_NOTA_COMP4', 'NU_NOTA_COMP5',\n",
       "       'NU_NOTA_REDACAO', 'Q001', 'Q002', 'Q003', 'Q004', 'Q005', 'Q006',\n",
       "       'Q007', 'Q008', 'Q009', 'Q010', 'Q011', 'Q012', 'Q013', 'Q014',\n",
       "       'Q015', 'Q016', 'Q017', 'Q018', 'Q019', 'Q020', 'Q021', 'Q022',\n",
       "       'Q023', 'Q024', 'Q025', 'Q026', 'Q027'], dtype=object)"
      ]
     },
     "execution_count": 75,
     "metadata": {},
     "output_type": "execute_result"
    }
   ],
   "source": [
    "microdadosEnem.columns.values"
   ]
  },
  {
   "cell_type": "markdown",
   "metadata": {},
   "source": [
    "# 2. Limpeza de dados e nome das colunas"
   ]
  },
  {
   "cell_type": "code",
   "execution_count": 209,
   "metadata": {},
   "outputs": [],
   "source": [
    "clean_microdados = microdadosEnem.copy()"
   ]
  },
  {
   "cell_type": "code",
   "execution_count": 210,
   "metadata": {},
   "outputs": [],
   "source": [
    "# Transformar todas as colunas para letras minúsculas\n",
    "clean_microdados.columns = [x.lower() for x in clean_microdados.columns]\n",
    "\n",
    "prefixes_to_remove = ['tp_', 'in_', 'sg_', 'nu_', 'no_']\n",
    "clean_microdados.columns = clean_microdados.columns.to_series().replace(to_replace='^(' + '|'.join(prefixes_to_remove) + ')', value='', regex=True)\n",
    "\n",
    "# Renomear colunas para nomes mais amigáveis\n",
    "to_rename = {'q001': 'escolaridade_pai', \n",
    "             'q002': 'escolaridade_mae',\n",
    "             'q003': 'ocupacao_pai',\n",
    "             'q004': 'ocupacao_mae',\n",
    "             'q005': 'numero_pessoas_em_casa',\n",
    "             'q006': 'renda_familiar_mensal',\n",
    "             'q022': 'possui_celular_em_casa',\n",
    "             'q024': 'possui_computador_em_casa',\n",
    "             'q025': 'acesso_internet_em_casa',\n",
    "             'st_conclusao': 'status_conclusao_ensino_medio'}\n",
    "\n",
    "clean_microdados = clean_microdados.rename(columns=to_rename)"
   ]
  },
  {
   "cell_type": "code",
   "execution_count": 211,
   "metadata": {},
   "outputs": [
    {
     "data": {
      "text/plain": [
       "Index(['inscricao', 'ano', 'faixa_etaria', 'sexo', 'estado_civil', 'cor_raca',\n",
       "       'nacionalidade', 'status_conclusao_ensino_medio', 'ano_concluiu',\n",
       "       'escola', 'ensino', 'treineiro', 'co_municipio_esc', 'municipio_esc',\n",
       "       'co_uf_esc', 'uf_esc', 'dependencia_adm_esc', 'localizacao_esc',\n",
       "       'sit_func_esc', 'co_municipio_prova', 'municipio_prova', 'co_uf_prova',\n",
       "       'uf_prova', 'presenca_cn', 'presenca_ch', 'presenca_lc', 'presenca_mt',\n",
       "       'co_prova_cn', 'co_prova_ch', 'co_prova_lc', 'co_prova_mt', 'nota_cn',\n",
       "       'nota_ch', 'nota_lc', 'nota_mt', 'tx_respostas_cn', 'tx_respostas_ch',\n",
       "       'tx_respostas_lc', 'tx_respostas_mt', 'lingua', 'tx_gabarito_cn',\n",
       "       'tx_gabarito_ch', 'tx_gabarito_lc', 'tx_gabarito_mt', 'status_redacao',\n",
       "       'nota_comp1', 'nota_comp2', 'nota_comp3', 'nota_comp4', 'nota_comp5',\n",
       "       'nota_redacao', 'escolaridade_pai', 'escolaridade_mae', 'ocupacao_pai',\n",
       "       'ocupacao_mae', 'numero_pessoas_em_casa', 'renda_familiar_mensal',\n",
       "       'q007', 'q008', 'q009', 'q010', 'q011', 'q012', 'q013', 'q014', 'q015',\n",
       "       'q016', 'q017', 'q018', 'q019', 'q020', 'q021',\n",
       "       'possui_celular_em_casa', 'q023', 'possui_computador_em_casa',\n",
       "       'acesso_internet_em_casa', 'q026', 'q027'],\n",
       "      dtype='object')"
      ]
     },
     "execution_count": 211,
     "metadata": {},
     "output_type": "execute_result"
    }
   ],
   "source": [
    "clean_microdados.columns"
   ]
  },
  {
   "cell_type": "code",
   "execution_count": 212,
   "metadata": {},
   "outputs": [],
   "source": [
    "# Mapear os códigos de renda familiar mensal para valores descritivos\n",
    "renda_mapping = {\n",
    "    'A': 'Nenhuma Renda',\n",
    "    'B': 'Até R$ 1.212,00',\n",
    "    'C': 'R$ 1.212,01 - R$ 1.818,00',\n",
    "    'D': 'R$ 1.818,01 - R$ 3.030,00',\n",
    "    'E': 'R$ 1.818,01 - R$ 3.030,00',\n",
    "    'F': 'R$ 3.030,01 - R$ 4.848,00',\n",
    "    'G': 'R$ 3.030,01 - R$ 4.848,00',\n",
    "    'H': 'R$ 4.848,01 - R$ 7.272,00',\n",
    "    'I': 'R$ 4.848,01 - R$ 7.272,00',\n",
    "    'J': 'R$ 7.272,01 - R$ 10.908,00',\n",
    "    'K': 'R$ 7.272,01 - R$ 10.908,00',\n",
    "    'L': 'R$ 7.272,01 - R$ 10.908,00',\n",
    "    'M': 'R$ 10.908,01 - R$ 18.180,00',\n",
    "    'N': 'R$ 10.908,01 - R$ 18.180,00',\n",
    "    'O': 'R$ 10.908,01 - R$ 18.180,00',\n",
    "    'P': 'R$ 18.180,01 - R$ 24.240,00',\n",
    "    'Q': 'Acima de R$ 24.240,00'\n",
    "}\n",
    "clean_microdados['renda_familiar_mensal'] = clean_microdados['renda_familiar_mensal'].replace(renda_mapping)\n"
   ]
  },
  {
   "cell_type": "code",
   "execution_count": 213,
   "metadata": {},
   "outputs": [
    {
     "data": {
      "text/html": [
       "<div>\n",
       "<style scoped>\n",
       "    .dataframe tbody tr th:only-of-type {\n",
       "        vertical-align: middle;\n",
       "    }\n",
       "\n",
       "    .dataframe tbody tr th {\n",
       "        vertical-align: top;\n",
       "    }\n",
       "\n",
       "    .dataframe thead th {\n",
       "        text-align: right;\n",
       "    }\n",
       "</style>\n",
       "<table border=\"1\" class=\"dataframe\">\n",
       "  <thead>\n",
       "    <tr style=\"text-align: right;\">\n",
       "      <th></th>\n",
       "      <th>renda_familiar_mensal</th>\n",
       "    </tr>\n",
       "  </thead>\n",
       "  <tbody>\n",
       "    <tr>\n",
       "      <th>0</th>\n",
       "      <td>R$ 1.818,01 - R$ 3.030,00</td>\n",
       "    </tr>\n",
       "    <tr>\n",
       "      <th>1</th>\n",
       "      <td>R$ 1.212,01 - R$ 1.818,00</td>\n",
       "    </tr>\n",
       "    <tr>\n",
       "      <th>2</th>\n",
       "      <td>R$ 4.848,01 - R$ 7.272,00</td>\n",
       "    </tr>\n",
       "    <tr>\n",
       "      <th>3</th>\n",
       "      <td>R$ 1.212,01 - R$ 1.818,00</td>\n",
       "    </tr>\n",
       "    <tr>\n",
       "      <th>4</th>\n",
       "      <td>Até R$ 1.212,00</td>\n",
       "    </tr>\n",
       "  </tbody>\n",
       "</table>\n",
       "</div>"
      ],
      "text/plain": [
       "       renda_familiar_mensal\n",
       "0  R$ 1.818,01 - R$ 3.030,00\n",
       "1  R$ 1.212,01 - R$ 1.818,00\n",
       "2  R$ 4.848,01 - R$ 7.272,00\n",
       "3  R$ 1.212,01 - R$ 1.818,00\n",
       "4            Até R$ 1.212,00"
      ]
     },
     "execution_count": 213,
     "metadata": {},
     "output_type": "execute_result"
    }
   ],
   "source": [
    "clean_microdados[['renda_familiar_mensal']].head()"
   ]
  },
  {
   "cell_type": "code",
   "execution_count": 214,
   "metadata": {},
   "outputs": [],
   "source": [
    "# Replace questions answers.\n",
    "escolaridade_mapping = {\n",
    "    'A': 'Nunca estudou',\n",
    "    'B': 'Ensino fundamental incompleto',\n",
    "    'C': 'Ensino fundamental incompleto',\n",
    "    'D': 'Ensino fundamental completo',\n",
    "    'E': 'Ensino médio completo',\n",
    "    'F': 'Ensino superior completo',\n",
    "    'G': 'Pós-graduação',\n",
    "    'H': 'Não sei'\n",
    "}\n",
    "clean_microdados['escolaridade_pai_desc'] = clean_microdados['escolaridade_pai'].replace(escolaridade_mapping)\n",
    "clean_microdados['escolaridade_mae_desc'] = clean_microdados['escolaridade_mae'].replace(escolaridade_mapping)"
   ]
  },
  {
   "cell_type": "code",
   "execution_count": 215,
   "metadata": {},
   "outputs": [
    {
     "data": {
      "text/html": [
       "<div>\n",
       "<style scoped>\n",
       "    .dataframe tbody tr th:only-of-type {\n",
       "        vertical-align: middle;\n",
       "    }\n",
       "\n",
       "    .dataframe tbody tr th {\n",
       "        vertical-align: top;\n",
       "    }\n",
       "\n",
       "    .dataframe thead th {\n",
       "        text-align: right;\n",
       "    }\n",
       "</style>\n",
       "<table border=\"1\" class=\"dataframe\">\n",
       "  <thead>\n",
       "    <tr style=\"text-align: right;\">\n",
       "      <th></th>\n",
       "      <th>escolaridade_pai</th>\n",
       "      <th>escolaridade_mae</th>\n",
       "      <th>escolaridade_pai_desc</th>\n",
       "      <th>escolaridade_mae_desc</th>\n",
       "    </tr>\n",
       "  </thead>\n",
       "  <tbody>\n",
       "    <tr>\n",
       "      <th>0</th>\n",
       "      <td>D</td>\n",
       "      <td>C</td>\n",
       "      <td>Ensino fundamental completo</td>\n",
       "      <td>Ensino fundamental incompleto</td>\n",
       "    </tr>\n",
       "    <tr>\n",
       "      <th>1</th>\n",
       "      <td>E</td>\n",
       "      <td>E</td>\n",
       "      <td>Ensino médio completo</td>\n",
       "      <td>Ensino médio completo</td>\n",
       "    </tr>\n",
       "    <tr>\n",
       "      <th>2</th>\n",
       "      <td>E</td>\n",
       "      <td>E</td>\n",
       "      <td>Ensino médio completo</td>\n",
       "      <td>Ensino médio completo</td>\n",
       "    </tr>\n",
       "    <tr>\n",
       "      <th>3</th>\n",
       "      <td>D</td>\n",
       "      <td>G</td>\n",
       "      <td>Ensino fundamental completo</td>\n",
       "      <td>Pós-graduação</td>\n",
       "    </tr>\n",
       "    <tr>\n",
       "      <th>4</th>\n",
       "      <td>D</td>\n",
       "      <td>D</td>\n",
       "      <td>Ensino fundamental completo</td>\n",
       "      <td>Ensino fundamental completo</td>\n",
       "    </tr>\n",
       "  </tbody>\n",
       "</table>\n",
       "</div>"
      ],
      "text/plain": [
       "  escolaridade_pai escolaridade_mae        escolaridade_pai_desc  \\\n",
       "0                D                C  Ensino fundamental completo   \n",
       "1                E                E        Ensino médio completo   \n",
       "2                E                E        Ensino médio completo   \n",
       "3                D                G  Ensino fundamental completo   \n",
       "4                D                D  Ensino fundamental completo   \n",
       "\n",
       "           escolaridade_mae_desc  \n",
       "0  Ensino fundamental incompleto  \n",
       "1          Ensino médio completo  \n",
       "2          Ensino médio completo  \n",
       "3                  Pós-graduação  \n",
       "4    Ensino fundamental completo  "
      ]
     },
     "execution_count": 215,
     "metadata": {},
     "output_type": "execute_result"
    }
   ],
   "source": [
    "clean_microdados[['escolaridade_pai', 'escolaridade_mae', 'escolaridade_pai_desc', 'escolaridade_mae_desc']].head()"
   ]
  },
  {
   "cell_type": "markdown",
   "metadata": {},
   "source": [
    "# 2. Objetivo: análise socioeconômica"
   ]
  },
  {
   "cell_type": "markdown",
   "metadata": {},
   "source": [
    "Podemos filtrar somente as colunas do nosso interesse"
   ]
  },
  {
   "cell_type": "code",
   "execution_count": 216,
   "metadata": {},
   "outputs": [],
   "source": [
    "colunasSelecionadas = [\n",
    "    'inscricao', # Identificador único do participante\n",
    "    'nota_mt', # Nota da prova de Matemática\n",
    "    'nota_redacao', # Nota da Redação\n",
    "    'escolaridade_pai', # Questão 1 - Até que série seu pai, ou o homem responsável por você, estudou?\n",
    "    'escolaridade_mae', # Questão 2 - Até que série sua mãe, ou a mulher responsável por você, estudou?\n",
    "    'escolaridade_pai_desc', # Descrição da escolaridade do pai\n",
    "    'escolaridade_mae_desc', # Descrição da escolaridade da mãe\n",
    "]"
   ]
  },
  {
   "cell_type": "markdown",
   "metadata": {},
   "source": [
    "Criamos um novo DataFrame apenas com os dados que serão analisados usando o método `.filter()`:"
   ]
  },
  {
   "cell_type": "code",
   "execution_count": 217,
   "metadata": {},
   "outputs": [],
   "source": [
    "microdadosEnemSelecionado = clean_microdados.filter(items=colunasSelecionadas)"
   ]
  },
  {
   "cell_type": "markdown",
   "metadata": {},
   "source": [
    "Visualizar a cabeça (head) do DataFrame:"
   ]
  },
  {
   "cell_type": "code",
   "execution_count": 218,
   "metadata": {
    "scrolled": true
   },
   "outputs": [
    {
     "data": {
      "text/html": [
       "<div>\n",
       "<style scoped>\n",
       "    .dataframe tbody tr th:only-of-type {\n",
       "        vertical-align: middle;\n",
       "    }\n",
       "\n",
       "    .dataframe tbody tr th {\n",
       "        vertical-align: top;\n",
       "    }\n",
       "\n",
       "    .dataframe thead th {\n",
       "        text-align: right;\n",
       "    }\n",
       "</style>\n",
       "<table border=\"1\" class=\"dataframe\">\n",
       "  <thead>\n",
       "    <tr style=\"text-align: right;\">\n",
       "      <th></th>\n",
       "      <th>inscricao</th>\n",
       "      <th>nota_mt</th>\n",
       "      <th>nota_redacao</th>\n",
       "      <th>escolaridade_pai</th>\n",
       "      <th>escolaridade_mae</th>\n",
       "      <th>escolaridade_pai_desc</th>\n",
       "      <th>escolaridade_mae_desc</th>\n",
       "    </tr>\n",
       "  </thead>\n",
       "  <tbody>\n",
       "    <tr>\n",
       "      <th>0</th>\n",
       "      <td>180007186683</td>\n",
       "      <td>764.5</td>\n",
       "      <td>700.0</td>\n",
       "      <td>D</td>\n",
       "      <td>C</td>\n",
       "      <td>Ensino fundamental completo</td>\n",
       "      <td>Ensino fundamental incompleto</td>\n",
       "    </tr>\n",
       "    <tr>\n",
       "      <th>1</th>\n",
       "      <td>180007186724</td>\n",
       "      <td>NaN</td>\n",
       "      <td>NaN</td>\n",
       "      <td>E</td>\n",
       "      <td>E</td>\n",
       "      <td>Ensino médio completo</td>\n",
       "      <td>Ensino médio completo</td>\n",
       "    </tr>\n",
       "    <tr>\n",
       "      <th>2</th>\n",
       "      <td>180007186784</td>\n",
       "      <td>536.0</td>\n",
       "      <td>560.0</td>\n",
       "      <td>E</td>\n",
       "      <td>E</td>\n",
       "      <td>Ensino médio completo</td>\n",
       "      <td>Ensino médio completo</td>\n",
       "    </tr>\n",
       "    <tr>\n",
       "      <th>3</th>\n",
       "      <td>180007186810</td>\n",
       "      <td>385.6</td>\n",
       "      <td>480.0</td>\n",
       "      <td>D</td>\n",
       "      <td>G</td>\n",
       "      <td>Ensino fundamental completo</td>\n",
       "      <td>Pós-graduação</td>\n",
       "    </tr>\n",
       "    <tr>\n",
       "      <th>4</th>\n",
       "      <td>180007186820</td>\n",
       "      <td>NaN</td>\n",
       "      <td>NaN</td>\n",
       "      <td>D</td>\n",
       "      <td>D</td>\n",
       "      <td>Ensino fundamental completo</td>\n",
       "      <td>Ensino fundamental completo</td>\n",
       "    </tr>\n",
       "  </tbody>\n",
       "</table>\n",
       "</div>"
      ],
      "text/plain": [
       "      inscricao  nota_mt  nota_redacao escolaridade_pai escolaridade_mae  \\\n",
       "0  180007186683    764.5         700.0                D                C   \n",
       "1  180007186724      NaN           NaN                E                E   \n",
       "2  180007186784    536.0         560.0                E                E   \n",
       "3  180007186810    385.6         480.0                D                G   \n",
       "4  180007186820      NaN           NaN                D                D   \n",
       "\n",
       "         escolaridade_pai_desc          escolaridade_mae_desc  \n",
       "0  Ensino fundamental completo  Ensino fundamental incompleto  \n",
       "1        Ensino médio completo          Ensino médio completo  \n",
       "2        Ensino médio completo          Ensino médio completo  \n",
       "3  Ensino fundamental completo                  Pós-graduação  \n",
       "4  Ensino fundamental completo    Ensino fundamental completo  "
      ]
     },
     "execution_count": 218,
     "metadata": {},
     "output_type": "execute_result"
    }
   ],
   "source": [
    "microdadosEnemSelecionado.head()"
   ]
  },
  {
   "cell_type": "markdown",
   "metadata": {},
   "source": [
    "## 2.1 Remoção de nulos\n",
    "Todo conjunto de addos pode acontecer de não ter valores preenchidos, caso, por exemplo, a pessoa inscrita não tenha concluído a prova."
   ]
  },
  {
   "cell_type": "markdown",
   "metadata": {},
   "source": [
    "#### O que é esse tal de NaN?\n",
    "\n",
    "<strong>NaN</strong> significa <em>Not a Number</em> que quer dizer que não é um número.\n",
    "\n",
    "Saiba mais aqui: https://pandas.pydata.org/pandas-docs/stable/user_guide/missing_data.html"
   ]
  },
  {
   "cell_type": "code",
   "execution_count": 219,
   "metadata": {},
   "outputs": [
    {
     "data": {
      "text/plain": [
       "inscricao                    0\n",
       "nota_mt                  71126\n",
       "nota_redacao             56787\n",
       "escolaridade_pai             0\n",
       "escolaridade_mae             0\n",
       "escolaridade_pai_desc        0\n",
       "escolaridade_mae_desc        0\n",
       "dtype: int64"
      ]
     },
     "execution_count": 219,
     "metadata": {},
     "output_type": "execute_result"
    }
   ],
   "source": [
    "microdadosEnemSelecionado.isna().sum()"
   ]
  },
  {
   "cell_type": "markdown",
   "metadata": {},
   "source": [
    "Nesse caso, iremos remover todas as linhas que possuam valores nulos em qualquer uma das colunas.\n",
    "\n",
    "Para isso, usamos o método `.dropna()`, que retorna um novo DataFrame sem os valores nulos:"
   ]
  },
  {
   "cell_type": "code",
   "execution_count": 220,
   "metadata": {},
   "outputs": [],
   "source": [
    "microdadosEnemSelecionado = microdadosEnemSelecionado.dropna()"
   ]
  },
  {
   "cell_type": "markdown",
   "metadata": {},
   "source": [
    "Podemos verificar se deu certo:"
   ]
  },
  {
   "cell_type": "code",
   "execution_count": 221,
   "metadata": {},
   "outputs": [
    {
     "data": {
      "text/plain": [
       "inscricao                0\n",
       "nota_mt                  0\n",
       "nota_redacao             0\n",
       "escolaridade_pai         0\n",
       "escolaridade_mae         0\n",
       "escolaridade_pai_desc    0\n",
       "escolaridade_mae_desc    0\n",
       "dtype: int64"
      ]
     },
     "execution_count": 221,
     "metadata": {},
     "output_type": "execute_result"
    }
   ],
   "source": [
    "microdadosEnemSelecionado.isna().sum()"
   ]
  },
  {
   "cell_type": "code",
   "execution_count": 222,
   "metadata": {
    "scrolled": true
   },
   "outputs": [
    {
     "data": {
      "text/html": [
       "<div>\n",
       "<style scoped>\n",
       "    .dataframe tbody tr th:only-of-type {\n",
       "        vertical-align: middle;\n",
       "    }\n",
       "\n",
       "    .dataframe tbody tr th {\n",
       "        vertical-align: top;\n",
       "    }\n",
       "\n",
       "    .dataframe thead th {\n",
       "        text-align: right;\n",
       "    }\n",
       "</style>\n",
       "<table border=\"1\" class=\"dataframe\">\n",
       "  <thead>\n",
       "    <tr style=\"text-align: right;\">\n",
       "      <th></th>\n",
       "      <th>inscricao</th>\n",
       "      <th>nota_mt</th>\n",
       "      <th>nota_redacao</th>\n",
       "      <th>escolaridade_pai</th>\n",
       "      <th>escolaridade_mae</th>\n",
       "      <th>escolaridade_pai_desc</th>\n",
       "      <th>escolaridade_mae_desc</th>\n",
       "    </tr>\n",
       "  </thead>\n",
       "  <tbody>\n",
       "    <tr>\n",
       "      <th>0</th>\n",
       "      <td>180007186683</td>\n",
       "      <td>764.5</td>\n",
       "      <td>700.0</td>\n",
       "      <td>D</td>\n",
       "      <td>C</td>\n",
       "      <td>Ensino fundamental completo</td>\n",
       "      <td>Ensino fundamental incompleto</td>\n",
       "    </tr>\n",
       "    <tr>\n",
       "      <th>2</th>\n",
       "      <td>180007186784</td>\n",
       "      <td>536.0</td>\n",
       "      <td>560.0</td>\n",
       "      <td>E</td>\n",
       "      <td>E</td>\n",
       "      <td>Ensino médio completo</td>\n",
       "      <td>Ensino médio completo</td>\n",
       "    </tr>\n",
       "    <tr>\n",
       "      <th>3</th>\n",
       "      <td>180007186810</td>\n",
       "      <td>385.6</td>\n",
       "      <td>480.0</td>\n",
       "      <td>D</td>\n",
       "      <td>G</td>\n",
       "      <td>Ensino fundamental completo</td>\n",
       "      <td>Pós-graduação</td>\n",
       "    </tr>\n",
       "    <tr>\n",
       "      <th>5</th>\n",
       "      <td>180007186829</td>\n",
       "      <td>522.1</td>\n",
       "      <td>700.0</td>\n",
       "      <td>D</td>\n",
       "      <td>E</td>\n",
       "      <td>Ensino fundamental completo</td>\n",
       "      <td>Ensino médio completo</td>\n",
       "    </tr>\n",
       "    <tr>\n",
       "      <th>6</th>\n",
       "      <td>180007186831</td>\n",
       "      <td>498.5</td>\n",
       "      <td>500.0</td>\n",
       "      <td>B</td>\n",
       "      <td>E</td>\n",
       "      <td>Ensino fundamental incompleto</td>\n",
       "      <td>Ensino médio completo</td>\n",
       "    </tr>\n",
       "  </tbody>\n",
       "</table>\n",
       "</div>"
      ],
      "text/plain": [
       "      inscricao  nota_mt  nota_redacao escolaridade_pai escolaridade_mae  \\\n",
       "0  180007186683    764.5         700.0                D                C   \n",
       "2  180007186784    536.0         560.0                E                E   \n",
       "3  180007186810    385.6         480.0                D                G   \n",
       "5  180007186829    522.1         700.0                D                E   \n",
       "6  180007186831    498.5         500.0                B                E   \n",
       "\n",
       "           escolaridade_pai_desc          escolaridade_mae_desc  \n",
       "0    Ensino fundamental completo  Ensino fundamental incompleto  \n",
       "2          Ensino médio completo          Ensino médio completo  \n",
       "3    Ensino fundamental completo                  Pós-graduação  \n",
       "5    Ensino fundamental completo          Ensino médio completo  \n",
       "6  Ensino fundamental incompleto          Ensino médio completo  "
      ]
     },
     "execution_count": 222,
     "metadata": {},
     "output_type": "execute_result"
    }
   ],
   "source": [
    "microdadosEnemSelecionado.head()"
   ]
  },
  {
   "cell_type": "markdown",
   "metadata": {},
   "source": [
    "# Finalmente: o questionário de indicadores socioeconômicos!\n",
    "\n",
    "Começaremos pelas duas primeiras questões:\n",
    "\n",
    "Q001 - Até que série seu pai, ou o homem responsável por você, estudou?\n",
    "\n",
    "Q002 - Até que série sua mãe, ou a mulher responsável por você, estudou?"
   ]
  },
  {
   "cell_type": "markdown",
   "metadata": {},
   "source": [
    "### Passo 1 - Definindo um dicionário:\n",
    "Faremos isso para visualizar melhor o resultado"
   ]
  },
  {
   "cell_type": "code",
   "execution_count": 223,
   "metadata": {},
   "outputs": [
    {
     "data": {
      "text/html": [
       "<div>\n",
       "<style scoped>\n",
       "    .dataframe tbody tr th:only-of-type {\n",
       "        vertical-align: middle;\n",
       "    }\n",
       "\n",
       "    .dataframe tbody tr th {\n",
       "        vertical-align: top;\n",
       "    }\n",
       "\n",
       "    .dataframe thead th {\n",
       "        text-align: right;\n",
       "    }\n",
       "</style>\n",
       "<table border=\"1\" class=\"dataframe\">\n",
       "  <thead>\n",
       "    <tr style=\"text-align: right;\">\n",
       "      <th></th>\n",
       "      <th>inscricao</th>\n",
       "    </tr>\n",
       "    <tr>\n",
       "      <th>escolaridade_pai</th>\n",
       "      <th></th>\n",
       "    </tr>\n",
       "  </thead>\n",
       "  <tbody>\n",
       "    <tr>\n",
       "      <th>A</th>\n",
       "      <td>2550</td>\n",
       "    </tr>\n",
       "    <tr>\n",
       "      <th>B</th>\n",
       "      <td>21686</td>\n",
       "    </tr>\n",
       "    <tr>\n",
       "      <th>C</th>\n",
       "      <td>27165</td>\n",
       "    </tr>\n",
       "    <tr>\n",
       "      <th>D</th>\n",
       "      <td>32045</td>\n",
       "    </tr>\n",
       "    <tr>\n",
       "      <th>E</th>\n",
       "      <td>80823</td>\n",
       "    </tr>\n",
       "    <tr>\n",
       "      <th>F</th>\n",
       "      <td>30784</td>\n",
       "    </tr>\n",
       "    <tr>\n",
       "      <th>G</th>\n",
       "      <td>15496</td>\n",
       "    </tr>\n",
       "    <tr>\n",
       "      <th>H</th>\n",
       "      <td>16074</td>\n",
       "    </tr>\n",
       "  </tbody>\n",
       "</table>\n",
       "</div>"
      ],
      "text/plain": [
       "                  inscricao\n",
       "escolaridade_pai           \n",
       "A                      2550\n",
       "B                     21686\n",
       "C                     27165\n",
       "D                     32045\n",
       "E                     80823\n",
       "F                     30784\n",
       "G                     15496\n",
       "H                     16074"
      ]
     },
     "execution_count": 223,
     "metadata": {},
     "output_type": "execute_result"
    }
   ],
   "source": [
    "microdadosEnemSelecionado.filter(items=['escolaridade_pai','inscricao']).groupby('escolaridade_pai').count()"
   ]
  },
  {
   "cell_type": "markdown",
   "metadata": {},
   "source": [
    "### Passo 2 - Comparando distribução do nível de escolaridade Pai x Mãe no conjunto de dados"
   ]
  },
  {
   "cell_type": "markdown",
   "metadata": {},
   "source": [
    "Utilizando os métodos do DataFrame filter(), groupby(), count(), sort_values()\n",
    "\n",
    "documentação disponível em: https://pandas.pydata.org/pandas-docs/stable/reference/frame.html "
   ]
  },
  {
   "cell_type": "markdown",
   "metadata": {},
   "source": [
    "1 - distribuição dos candidatos do ENEM 2018 por escolaridade do Pai"
   ]
  },
  {
   "cell_type": "code",
   "execution_count": 224,
   "metadata": {},
   "outputs": [
    {
     "data": {
      "text/html": [
       "<div>\n",
       "<style scoped>\n",
       "    .dataframe tbody tr th:only-of-type {\n",
       "        vertical-align: middle;\n",
       "    }\n",
       "\n",
       "    .dataframe tbody tr th {\n",
       "        vertical-align: top;\n",
       "    }\n",
       "\n",
       "    .dataframe thead th {\n",
       "        text-align: right;\n",
       "    }\n",
       "</style>\n",
       "<table border=\"1\" class=\"dataframe\">\n",
       "  <thead>\n",
       "    <tr style=\"text-align: right;\">\n",
       "      <th></th>\n",
       "      <th>inscricao</th>\n",
       "    </tr>\n",
       "    <tr>\n",
       "      <th>escolaridade_pai_desc</th>\n",
       "      <th></th>\n",
       "    </tr>\n",
       "  </thead>\n",
       "  <tbody>\n",
       "    <tr>\n",
       "      <th>Ensino médio completo</th>\n",
       "      <td>80823</td>\n",
       "    </tr>\n",
       "    <tr>\n",
       "      <th>Ensino fundamental incompleto</th>\n",
       "      <td>48851</td>\n",
       "    </tr>\n",
       "    <tr>\n",
       "      <th>Ensino fundamental completo</th>\n",
       "      <td>32045</td>\n",
       "    </tr>\n",
       "    <tr>\n",
       "      <th>Ensino superior completo</th>\n",
       "      <td>30784</td>\n",
       "    </tr>\n",
       "    <tr>\n",
       "      <th>Não sei</th>\n",
       "      <td>16074</td>\n",
       "    </tr>\n",
       "    <tr>\n",
       "      <th>Pós-graduação</th>\n",
       "      <td>15496</td>\n",
       "    </tr>\n",
       "    <tr>\n",
       "      <th>Nunca estudou</th>\n",
       "      <td>2550</td>\n",
       "    </tr>\n",
       "  </tbody>\n",
       "</table>\n",
       "</div>"
      ],
      "text/plain": [
       "                               inscricao\n",
       "escolaridade_pai_desc                   \n",
       "Ensino médio completo              80823\n",
       "Ensino fundamental incompleto      48851\n",
       "Ensino fundamental completo        32045\n",
       "Ensino superior completo           30784\n",
       "Não sei                            16074\n",
       "Pós-graduação                      15496\n",
       "Nunca estudou                       2550"
      ]
     },
     "execution_count": 224,
     "metadata": {},
     "output_type": "execute_result"
    }
   ],
   "source": [
    "microdadosEnemSelecionado.filter(items=['inscricao','escolaridade_pai_desc']).groupby('escolaridade_pai_desc').count().sort_values(by='inscricao', ascending=False)"
   ]
  },
  {
   "cell_type": "markdown",
   "metadata": {},
   "source": [
    "2 - distribuição dos candidatos do ENEM 2018 por escolaridade da Mãe"
   ]
  },
  {
   "cell_type": "code",
   "execution_count": 225,
   "metadata": {},
   "outputs": [
    {
     "data": {
      "text/html": [
       "<div>\n",
       "<style scoped>\n",
       "    .dataframe tbody tr th:only-of-type {\n",
       "        vertical-align: middle;\n",
       "    }\n",
       "\n",
       "    .dataframe tbody tr th {\n",
       "        vertical-align: top;\n",
       "    }\n",
       "\n",
       "    .dataframe thead th {\n",
       "        text-align: right;\n",
       "    }\n",
       "</style>\n",
       "<table border=\"1\" class=\"dataframe\">\n",
       "  <thead>\n",
       "    <tr style=\"text-align: right;\">\n",
       "      <th></th>\n",
       "      <th>inscricao</th>\n",
       "    </tr>\n",
       "    <tr>\n",
       "      <th>escolaridade_mae_desc</th>\n",
       "      <th></th>\n",
       "    </tr>\n",
       "  </thead>\n",
       "  <tbody>\n",
       "    <tr>\n",
       "      <th>Ensino médio completo</th>\n",
       "      <td>91488</td>\n",
       "    </tr>\n",
       "    <tr>\n",
       "      <th>Ensino superior completo</th>\n",
       "      <td>37781</td>\n",
       "    </tr>\n",
       "    <tr>\n",
       "      <th>Ensino fundamental incompleto</th>\n",
       "      <td>37663</td>\n",
       "    </tr>\n",
       "    <tr>\n",
       "      <th>Ensino fundamental completo</th>\n",
       "      <td>32411</td>\n",
       "    </tr>\n",
       "    <tr>\n",
       "      <th>Pós-graduação</th>\n",
       "      <td>20102</td>\n",
       "    </tr>\n",
       "    <tr>\n",
       "      <th>Não sei</th>\n",
       "      <td>5354</td>\n",
       "    </tr>\n",
       "    <tr>\n",
       "      <th>Nunca estudou</th>\n",
       "      <td>1824</td>\n",
       "    </tr>\n",
       "  </tbody>\n",
       "</table>\n",
       "</div>"
      ],
      "text/plain": [
       "                               inscricao\n",
       "escolaridade_mae_desc                   \n",
       "Ensino médio completo              91488\n",
       "Ensino superior completo           37781\n",
       "Ensino fundamental incompleto      37663\n",
       "Ensino fundamental completo        32411\n",
       "Pós-graduação                      20102\n",
       "Não sei                             5354\n",
       "Nunca estudou                       1824"
      ]
     },
     "execution_count": 225,
     "metadata": {},
     "output_type": "execute_result"
    }
   ],
   "source": [
    "microdadosEnemSelecionado.filter(items=['inscricao','escolaridade_mae_desc']).groupby('escolaridade_mae_desc').count().sort_values(by='inscricao', ascending=False)"
   ]
  },
  {
   "cell_type": "markdown",
   "metadata": {},
   "source": [
    "### Passo 4 - Olhando o desempenho em matemática segundo a escolaridade PaixMãe"
   ]
  },
  {
   "cell_type": "markdown",
   "metadata": {},
   "source": [
    "1 - por Escolaridade do Pai"
   ]
  },
  {
   "cell_type": "code",
   "execution_count": 226,
   "metadata": {},
   "outputs": [
    {
     "data": {
      "text/html": [
       "<div>\n",
       "<style scoped>\n",
       "    .dataframe tbody tr th:only-of-type {\n",
       "        vertical-align: middle;\n",
       "    }\n",
       "\n",
       "    .dataframe tbody tr th {\n",
       "        vertical-align: top;\n",
       "    }\n",
       "\n",
       "    .dataframe thead th {\n",
       "        text-align: right;\n",
       "    }\n",
       "</style>\n",
       "<table border=\"1\" class=\"dataframe\">\n",
       "  <thead>\n",
       "    <tr style=\"text-align: right;\">\n",
       "      <th></th>\n",
       "      <th>nota_mt</th>\n",
       "    </tr>\n",
       "    <tr>\n",
       "      <th>escolaridade_pai_desc</th>\n",
       "      <th></th>\n",
       "    </tr>\n",
       "  </thead>\n",
       "  <tbody>\n",
       "    <tr>\n",
       "      <th>Pós-graduação</th>\n",
       "      <td>641.695876</td>\n",
       "    </tr>\n",
       "    <tr>\n",
       "      <th>Ensino superior completo</th>\n",
       "      <td>612.872232</td>\n",
       "    </tr>\n",
       "    <tr>\n",
       "      <th>Ensino médio completo</th>\n",
       "      <td>555.690926</td>\n",
       "    </tr>\n",
       "    <tr>\n",
       "      <th>Ensino fundamental completo</th>\n",
       "      <td>534.625236</td>\n",
       "    </tr>\n",
       "    <tr>\n",
       "      <th>Não sei</th>\n",
       "      <td>524.168819</td>\n",
       "    </tr>\n",
       "    <tr>\n",
       "      <th>Ensino fundamental incompleto</th>\n",
       "      <td>520.816104</td>\n",
       "    </tr>\n",
       "    <tr>\n",
       "      <th>Nunca estudou</th>\n",
       "      <td>497.684706</td>\n",
       "    </tr>\n",
       "  </tbody>\n",
       "</table>\n",
       "</div>"
      ],
      "text/plain": [
       "                                  nota_mt\n",
       "escolaridade_pai_desc                    \n",
       "Pós-graduação                  641.695876\n",
       "Ensino superior completo       612.872232\n",
       "Ensino médio completo          555.690926\n",
       "Ensino fundamental completo    534.625236\n",
       "Não sei                        524.168819\n",
       "Ensino fundamental incompleto  520.816104\n",
       "Nunca estudou                  497.684706"
      ]
     },
     "execution_count": 226,
     "metadata": {},
     "output_type": "execute_result"
    }
   ],
   "source": [
    "microdadosEnemSelecionado.filter(items=['nota_mt','escolaridade_pai_desc']).groupby('escolaridade_pai_desc').mean().sort_values(by='nota_mt', ascending=False)\n"
   ]
  },
  {
   "cell_type": "markdown",
   "metadata": {},
   "source": [
    "2 - por Escolaridade da Mãe"
   ]
  },
  {
   "cell_type": "code",
   "execution_count": 227,
   "metadata": {
    "scrolled": true
   },
   "outputs": [
    {
     "data": {
      "text/html": [
       "<div>\n",
       "<style scoped>\n",
       "    .dataframe tbody tr th:only-of-type {\n",
       "        vertical-align: middle;\n",
       "    }\n",
       "\n",
       "    .dataframe tbody tr th {\n",
       "        vertical-align: top;\n",
       "    }\n",
       "\n",
       "    .dataframe thead th {\n",
       "        text-align: right;\n",
       "    }\n",
       "</style>\n",
       "<table border=\"1\" class=\"dataframe\">\n",
       "  <thead>\n",
       "    <tr style=\"text-align: right;\">\n",
       "      <th></th>\n",
       "      <th>nota_mt</th>\n",
       "    </tr>\n",
       "    <tr>\n",
       "      <th>escolaridade_mae_desc</th>\n",
       "      <th></th>\n",
       "    </tr>\n",
       "  </thead>\n",
       "  <tbody>\n",
       "    <tr>\n",
       "      <th>Pós-graduação</th>\n",
       "      <td>622.527027</td>\n",
       "    </tr>\n",
       "    <tr>\n",
       "      <th>Ensino superior completo</th>\n",
       "      <td>605.036751</td>\n",
       "    </tr>\n",
       "    <tr>\n",
       "      <th>Ensino médio completo</th>\n",
       "      <td>550.437699</td>\n",
       "    </tr>\n",
       "    <tr>\n",
       "      <th>Ensino fundamental completo</th>\n",
       "      <td>528.863648</td>\n",
       "    </tr>\n",
       "    <tr>\n",
       "      <th>Não sei</th>\n",
       "      <td>522.747348</td>\n",
       "    </tr>\n",
       "    <tr>\n",
       "      <th>Ensino fundamental incompleto</th>\n",
       "      <td>515.739928</td>\n",
       "    </tr>\n",
       "    <tr>\n",
       "      <th>Nunca estudou</th>\n",
       "      <td>491.527796</td>\n",
       "    </tr>\n",
       "  </tbody>\n",
       "</table>\n",
       "</div>"
      ],
      "text/plain": [
       "                                  nota_mt\n",
       "escolaridade_mae_desc                    \n",
       "Pós-graduação                  622.527027\n",
       "Ensino superior completo       605.036751\n",
       "Ensino médio completo          550.437699\n",
       "Ensino fundamental completo    528.863648\n",
       "Não sei                        522.747348\n",
       "Ensino fundamental incompleto  515.739928\n",
       "Nunca estudou                  491.527796"
      ]
     },
     "execution_count": 227,
     "metadata": {},
     "output_type": "execute_result"
    }
   ],
   "source": [
    "microdadosEnemSelecionado.filter(items=['nota_mt','escolaridade_mae_desc']).groupby('escolaridade_mae_desc').mean().sort_values(by='nota_mt', ascending=False)\n"
   ]
  },
  {
   "cell_type": "markdown",
   "metadata": {},
   "source": [
    "### Passo 5 - Olhando o desempenho em redação segundo a escolaridade PaixMãe"
   ]
  },
  {
   "cell_type": "markdown",
   "metadata": {},
   "source": [
    "1 - por Escolaridade do Pai"
   ]
  },
  {
   "cell_type": "code",
   "execution_count": 228,
   "metadata": {
    "scrolled": true
   },
   "outputs": [
    {
     "data": {
      "text/html": [
       "<div>\n",
       "<style scoped>\n",
       "    .dataframe tbody tr th:only-of-type {\n",
       "        vertical-align: middle;\n",
       "    }\n",
       "\n",
       "    .dataframe tbody tr th {\n",
       "        vertical-align: top;\n",
       "    }\n",
       "\n",
       "    .dataframe thead th {\n",
       "        text-align: right;\n",
       "    }\n",
       "</style>\n",
       "<table border=\"1\" class=\"dataframe\">\n",
       "  <thead>\n",
       "    <tr style=\"text-align: right;\">\n",
       "      <th></th>\n",
       "      <th>nota_redacao</th>\n",
       "    </tr>\n",
       "    <tr>\n",
       "      <th>escolaridade_mae_desc</th>\n",
       "      <th></th>\n",
       "    </tr>\n",
       "  </thead>\n",
       "  <tbody>\n",
       "    <tr>\n",
       "      <th>Pós-graduação</th>\n",
       "      <td>628.119590</td>\n",
       "    </tr>\n",
       "    <tr>\n",
       "      <th>Ensino superior completo</th>\n",
       "      <td>604.004658</td>\n",
       "    </tr>\n",
       "    <tr>\n",
       "      <th>Ensino médio completo</th>\n",
       "      <td>526.906042</td>\n",
       "    </tr>\n",
       "    <tr>\n",
       "      <th>Ensino fundamental completo</th>\n",
       "      <td>495.496591</td>\n",
       "    </tr>\n",
       "    <tr>\n",
       "      <th>Ensino fundamental incompleto</th>\n",
       "      <td>474.923931</td>\n",
       "    </tr>\n",
       "    <tr>\n",
       "      <th>Não sei</th>\n",
       "      <td>459.940232</td>\n",
       "    </tr>\n",
       "    <tr>\n",
       "      <th>Nunca estudou</th>\n",
       "      <td>415.975877</td>\n",
       "    </tr>\n",
       "  </tbody>\n",
       "</table>\n",
       "</div>"
      ],
      "text/plain": [
       "                               nota_redacao\n",
       "escolaridade_mae_desc                      \n",
       "Pós-graduação                    628.119590\n",
       "Ensino superior completo         604.004658\n",
       "Ensino médio completo            526.906042\n",
       "Ensino fundamental completo      495.496591\n",
       "Ensino fundamental incompleto    474.923931\n",
       "Não sei                          459.940232\n",
       "Nunca estudou                    415.975877"
      ]
     },
     "execution_count": 228,
     "metadata": {},
     "output_type": "execute_result"
    }
   ],
   "source": [
    "microdadosEnemSelecionado.filter(items=['nota_redacao','escolaridade_mae_desc']).groupby('escolaridade_mae_desc').mean().sort_values(by='nota_redacao', ascending=False)"
   ]
  },
  {
   "cell_type": "markdown",
   "metadata": {},
   "source": [
    "Olhando para essa informação em um gráfico:"
   ]
  },
  {
   "cell_type": "code",
   "execution_count": 229,
   "metadata": {},
   "outputs": [
    {
     "data": {
      "text/plain": [
       "[Text(0, 0, 'Pós-graduação'),\n",
       " Text(1, 0, 'Ensino superior completo'),\n",
       " Text(2, 0, 'Ensino médio completo'),\n",
       " Text(3, 0, 'Ensino fundamental completo'),\n",
       " Text(4, 0, 'Ensino fundamental incompleto'),\n",
       " Text(5, 0, 'Não sei'),\n",
       " Text(6, 0, 'Nunca estudou')]"
      ]
     },
     "execution_count": 229,
     "metadata": {},
     "output_type": "execute_result"
    },
    {
     "data": {
      "image/png": "[encoded data removed]",
      "text/plain": [
       "<Figure size 640x480 with 1 Axes>"
      ]
     },
     "metadata": {},
     "output_type": "display_data"
    }
   ],
   "source": [
    "ax = microdadosEnemSelecionado.filter(items=['nota_redacao','escolaridade_pai_desc'])\\\n",
    "    .groupby('escolaridade_pai_desc').mean().sort_values(by='nota_redacao', ascending=False).plot(kind='bar', legend=False)\n",
    "ax.set_xlabel('Escolaridade do Pai')\n",
    "ax.set_ylabel('Média da Nota de Redação')\n",
    "ax.set_title('Média da Nota de Redação por Escolaridade do Pai')\n",
    "ax.set_xticklabels(ax.get_xticklabels(), rotation=45, ha='right')"
   ]
  },
  {
   "cell_type": "markdown",
   "metadata": {},
   "source": [
    "2 - por Escolaridade da Mãe"
   ]
  },
  {
   "cell_type": "code",
   "execution_count": 230,
   "metadata": {},
   "outputs": [
    {
     "data": {
      "text/plain": [
       "[Text(0, 0, 'Pós-graduação'),\n",
       " Text(1, 0, 'Ensino superior completo'),\n",
       " Text(2, 0, 'Ensino médio completo'),\n",
       " Text(3, 0, 'Ensino fundamental completo'),\n",
       " Text(4, 0, 'Ensino fundamental incompleto'),\n",
       " Text(5, 0, 'Não sei'),\n",
       " Text(6, 0, 'Nunca estudou')]"
      ]
     },
     "execution_count": 230,
     "metadata": {},
     "output_type": "execute_result"
    },
    {
     "data": {
      "image/png": "[encoded data removed]",
      "text/plain": [
       "<Figure size 640x480 with 1 Axes>"
      ]
     },
     "metadata": {},
     "output_type": "display_data"
    }
   ],
   "source": [
    "ax = microdadosEnemSelecionado.filter(items=['nota_redacao','escolaridade_mae_desc'])\\\n",
    "    .groupby('escolaridade_mae_desc').mean().sort_values(by='nota_redacao', ascending=False).plot(kind='bar', legend=False)\n",
    "ax.set_xlabel('Escolaridade da Mãe')\n",
    "ax.set_ylabel('Média da Nota de Redação')\n",
    "ax.set_title('Média da Nota de Redação por Escolaridade da Mãe')\n",
    "ax.set_xticklabels(ax.get_xticklabels(), rotation=45, ha='right')"
   ]
  },
  {
   "cell_type": "markdown",
   "metadata": {},
   "source": [
    "Olhando para outras variáveis além da média:"
   ]
  },
  {
   "cell_type": "code",
   "execution_count": 231,
   "metadata": {
    "scrolled": true
   },
   "outputs": [
    {
     "data": {
      "text/html": [
       "<div>\n",
       "<style scoped>\n",
       "    .dataframe tbody tr th:only-of-type {\n",
       "        vertical-align: middle;\n",
       "    }\n",
       "\n",
       "    .dataframe tbody tr th {\n",
       "        vertical-align: top;\n",
       "    }\n",
       "\n",
       "    .dataframe thead tr th {\n",
       "        text-align: left;\n",
       "    }\n",
       "\n",
       "    .dataframe thead tr:last-of-type th {\n",
       "        text-align: right;\n",
       "    }\n",
       "</style>\n",
       "<table border=\"1\" class=\"dataframe\">\n",
       "  <thead>\n",
       "    <tr>\n",
       "      <th></th>\n",
       "      <th colspan=\"8\" halign=\"left\">nota_redacao</th>\n",
       "    </tr>\n",
       "    <tr>\n",
       "      <th></th>\n",
       "      <th>count</th>\n",
       "      <th>mean</th>\n",
       "      <th>std</th>\n",
       "      <th>min</th>\n",
       "      <th>25%</th>\n",
       "      <th>50%</th>\n",
       "      <th>75%</th>\n",
       "      <th>max</th>\n",
       "    </tr>\n",
       "    <tr>\n",
       "      <th>escolaridade_pai_desc</th>\n",
       "      <th></th>\n",
       "      <th></th>\n",
       "      <th></th>\n",
       "      <th></th>\n",
       "      <th></th>\n",
       "      <th></th>\n",
       "      <th></th>\n",
       "      <th></th>\n",
       "    </tr>\n",
       "  </thead>\n",
       "  <tbody>\n",
       "    <tr>\n",
       "      <th>Ensino fundamental completo</th>\n",
       "      <td>32045.0</td>\n",
       "      <td>503.812139</td>\n",
       "      <td>165.753492</td>\n",
       "      <td>0.0</td>\n",
       "      <td>360.0</td>\n",
       "      <td>520.0</td>\n",
       "      <td>600.0</td>\n",
       "      <td>980.0</td>\n",
       "    </tr>\n",
       "    <tr>\n",
       "      <th>Ensino fundamental incompleto</th>\n",
       "      <td>48851.0</td>\n",
       "      <td>483.032487</td>\n",
       "      <td>164.893289</td>\n",
       "      <td>0.0</td>\n",
       "      <td>360.0</td>\n",
       "      <td>500.0</td>\n",
       "      <td>600.0</td>\n",
       "      <td>980.0</td>\n",
       "    </tr>\n",
       "    <tr>\n",
       "      <th>Ensino médio completo</th>\n",
       "      <td>80823.0</td>\n",
       "      <td>535.028890</td>\n",
       "      <td>169.448736</td>\n",
       "      <td>0.0</td>\n",
       "      <td>400.0</td>\n",
       "      <td>540.0</td>\n",
       "      <td>640.0</td>\n",
       "      <td>980.0</td>\n",
       "    </tr>\n",
       "    <tr>\n",
       "      <th>Ensino superior completo</th>\n",
       "      <td>30784.0</td>\n",
       "      <td>616.528716</td>\n",
       "      <td>169.838945</td>\n",
       "      <td>0.0</td>\n",
       "      <td>520.0</td>\n",
       "      <td>620.0</td>\n",
       "      <td>740.0</td>\n",
       "      <td>1000.0</td>\n",
       "    </tr>\n",
       "    <tr>\n",
       "      <th>Nunca estudou</th>\n",
       "      <td>2550.0</td>\n",
       "      <td>431.090196</td>\n",
       "      <td>175.187362</td>\n",
       "      <td>0.0</td>\n",
       "      <td>320.0</td>\n",
       "      <td>420.0</td>\n",
       "      <td>560.0</td>\n",
       "      <td>960.0</td>\n",
       "    </tr>\n",
       "    <tr>\n",
       "      <th>Não sei</th>\n",
       "      <td>16074.0</td>\n",
       "      <td>476.024636</td>\n",
       "      <td>166.274945</td>\n",
       "      <td>0.0</td>\n",
       "      <td>360.0</td>\n",
       "      <td>480.0</td>\n",
       "      <td>580.0</td>\n",
       "      <td>980.0</td>\n",
       "    </tr>\n",
       "    <tr>\n",
       "      <th>Pós-graduação</th>\n",
       "      <td>15496.0</td>\n",
       "      <td>652.152814</td>\n",
       "      <td>169.505665</td>\n",
       "      <td>0.0</td>\n",
       "      <td>560.0</td>\n",
       "      <td>660.0</td>\n",
       "      <td>780.0</td>\n",
       "      <td>1000.0</td>\n",
       "    </tr>\n",
       "  </tbody>\n",
       "</table>\n",
       "</div>"
      ],
      "text/plain": [
       "                              nota_redacao                               \\\n",
       "                                     count        mean         std  min   \n",
       "escolaridade_pai_desc                                                     \n",
       "Ensino fundamental completo        32045.0  503.812139  165.753492  0.0   \n",
       "Ensino fundamental incompleto      48851.0  483.032487  164.893289  0.0   \n",
       "Ensino médio completo              80823.0  535.028890  169.448736  0.0   \n",
       "Ensino superior completo           30784.0  616.528716  169.838945  0.0   \n",
       "Nunca estudou                       2550.0  431.090196  175.187362  0.0   \n",
       "Não sei                            16074.0  476.024636  166.274945  0.0   \n",
       "Pós-graduação                      15496.0  652.152814  169.505665  0.0   \n",
       "\n",
       "                                                            \n",
       "                                 25%    50%    75%     max  \n",
       "escolaridade_pai_desc                                       \n",
       "Ensino fundamental completo    360.0  520.0  600.0   980.0  \n",
       "Ensino fundamental incompleto  360.0  500.0  600.0   980.0  \n",
       "Ensino médio completo          400.0  540.0  640.0   980.0  \n",
       "Ensino superior completo       520.0  620.0  740.0  1000.0  \n",
       "Nunca estudou                  320.0  420.0  560.0   960.0  \n",
       "Não sei                        360.0  480.0  580.0   980.0  \n",
       "Pós-graduação                  560.0  660.0  780.0  1000.0  "
      ]
     },
     "execution_count": 231,
     "metadata": {},
     "output_type": "execute_result"
    }
   ],
   "source": [
    "microdadosEnemSelecionado.filter(items=['nota_redacao','escolaridade_pai_desc']).groupby('escolaridade_pai_desc').describe()"
   ]
  },
  {
   "cell_type": "code",
   "execution_count": 232,
   "metadata": {},
   "outputs": [
    {
     "data": {
      "text/html": [
       "<div>\n",
       "<style scoped>\n",
       "    .dataframe tbody tr th:only-of-type {\n",
       "        vertical-align: middle;\n",
       "    }\n",
       "\n",
       "    .dataframe tbody tr th {\n",
       "        vertical-align: top;\n",
       "    }\n",
       "\n",
       "    .dataframe thead tr th {\n",
       "        text-align: left;\n",
       "    }\n",
       "\n",
       "    .dataframe thead tr:last-of-type th {\n",
       "        text-align: right;\n",
       "    }\n",
       "</style>\n",
       "<table border=\"1\" class=\"dataframe\">\n",
       "  <thead>\n",
       "    <tr>\n",
       "      <th></th>\n",
       "      <th colspan=\"8\" halign=\"left\">nota_redacao</th>\n",
       "    </tr>\n",
       "    <tr>\n",
       "      <th></th>\n",
       "      <th>count</th>\n",
       "      <th>mean</th>\n",
       "      <th>std</th>\n",
       "      <th>min</th>\n",
       "      <th>25%</th>\n",
       "      <th>50%</th>\n",
       "      <th>75%</th>\n",
       "      <th>max</th>\n",
       "    </tr>\n",
       "    <tr>\n",
       "      <th>escolaridade_mae_desc</th>\n",
       "      <th></th>\n",
       "      <th></th>\n",
       "      <th></th>\n",
       "      <th></th>\n",
       "      <th></th>\n",
       "      <th></th>\n",
       "      <th></th>\n",
       "      <th></th>\n",
       "    </tr>\n",
       "  </thead>\n",
       "  <tbody>\n",
       "    <tr>\n",
       "      <th>Ensino fundamental completo</th>\n",
       "      <td>32411.0</td>\n",
       "      <td>495.496591</td>\n",
       "      <td>164.518004</td>\n",
       "      <td>0.0</td>\n",
       "      <td>360.0</td>\n",
       "      <td>520.0</td>\n",
       "      <td>600.0</td>\n",
       "      <td>980.0</td>\n",
       "    </tr>\n",
       "    <tr>\n",
       "      <th>Ensino fundamental incompleto</th>\n",
       "      <td>37663.0</td>\n",
       "      <td>474.923931</td>\n",
       "      <td>163.853575</td>\n",
       "      <td>0.0</td>\n",
       "      <td>360.0</td>\n",
       "      <td>480.0</td>\n",
       "      <td>580.0</td>\n",
       "      <td>980.0</td>\n",
       "    </tr>\n",
       "    <tr>\n",
       "      <th>Ensino médio completo</th>\n",
       "      <td>91488.0</td>\n",
       "      <td>526.906042</td>\n",
       "      <td>169.469606</td>\n",
       "      <td>0.0</td>\n",
       "      <td>380.0</td>\n",
       "      <td>540.0</td>\n",
       "      <td>640.0</td>\n",
       "      <td>980.0</td>\n",
       "    </tr>\n",
       "    <tr>\n",
       "      <th>Ensino superior completo</th>\n",
       "      <td>37781.0</td>\n",
       "      <td>604.004658</td>\n",
       "      <td>172.284321</td>\n",
       "      <td>0.0</td>\n",
       "      <td>500.0</td>\n",
       "      <td>600.0</td>\n",
       "      <td>720.0</td>\n",
       "      <td>1000.0</td>\n",
       "    </tr>\n",
       "    <tr>\n",
       "      <th>Nunca estudou</th>\n",
       "      <td>1824.0</td>\n",
       "      <td>415.975877</td>\n",
       "      <td>172.038316</td>\n",
       "      <td>0.0</td>\n",
       "      <td>320.0</td>\n",
       "      <td>400.0</td>\n",
       "      <td>540.0</td>\n",
       "      <td>960.0</td>\n",
       "    </tr>\n",
       "    <tr>\n",
       "      <th>Não sei</th>\n",
       "      <td>5354.0</td>\n",
       "      <td>459.940232</td>\n",
       "      <td>167.392270</td>\n",
       "      <td>0.0</td>\n",
       "      <td>340.0</td>\n",
       "      <td>460.0</td>\n",
       "      <td>580.0</td>\n",
       "      <td>980.0</td>\n",
       "    </tr>\n",
       "    <tr>\n",
       "      <th>Pós-graduação</th>\n",
       "      <td>20102.0</td>\n",
       "      <td>628.119590</td>\n",
       "      <td>173.475940</td>\n",
       "      <td>0.0</td>\n",
       "      <td>520.0</td>\n",
       "      <td>640.0</td>\n",
       "      <td>760.0</td>\n",
       "      <td>1000.0</td>\n",
       "    </tr>\n",
       "  </tbody>\n",
       "</table>\n",
       "</div>"
      ],
      "text/plain": [
       "                              nota_redacao                               \\\n",
       "                                     count        mean         std  min   \n",
       "escolaridade_mae_desc                                                     \n",
       "Ensino fundamental completo        32411.0  495.496591  164.518004  0.0   \n",
       "Ensino fundamental incompleto      37663.0  474.923931  163.853575  0.0   \n",
       "Ensino médio completo              91488.0  526.906042  169.469606  0.0   \n",
       "Ensino superior completo           37781.0  604.004658  172.284321  0.0   \n",
       "Nunca estudou                       1824.0  415.975877  172.038316  0.0   \n",
       "Não sei                             5354.0  459.940232  167.392270  0.0   \n",
       "Pós-graduação                      20102.0  628.119590  173.475940  0.0   \n",
       "\n",
       "                                                            \n",
       "                                 25%    50%    75%     max  \n",
       "escolaridade_mae_desc                                       \n",
       "Ensino fundamental completo    360.0  520.0  600.0   980.0  \n",
       "Ensino fundamental incompleto  360.0  480.0  580.0   980.0  \n",
       "Ensino médio completo          380.0  540.0  640.0   980.0  \n",
       "Ensino superior completo       500.0  600.0  720.0  1000.0  \n",
       "Nunca estudou                  320.0  400.0  540.0   960.0  \n",
       "Não sei                        340.0  460.0  580.0   980.0  \n",
       "Pós-graduação                  520.0  640.0  760.0  1000.0  "
      ]
     },
     "execution_count": 232,
     "metadata": {},
     "output_type": "execute_result"
    }
   ],
   "source": [
    "microdadosEnemSelecionado.filter(items=['nota_redacao','escolaridade_mae_desc']).groupby('escolaridade_mae_desc').describe()"
   ]
  },
  {
   "cell_type": "markdown",
   "metadata": {},
   "source": [
    "# Principal resultado obtido das análises\n",
    "\n",
    "#### A média das notas me matemática e nas notas da redação obedecem uma tendência de crescimento que acompanha o crescimento das escolaridade dos pais e das mães, ou seja, responsáveis mais escolarizados influenciam no aumento da nota dos alunos.\n"
   ]
  },
  {
   "cell_type": "markdown",
   "metadata": {},
   "source": [
    "## A tendência se repete se olharmos por Estado... No, nosso caso, analisamos somente SP dado o tamanho dos conjuntos de dados."
   ]
  },
  {
   "cell_type": "markdown",
   "metadata": {},
   "source": [
    "# 3. Análise da renda familiar mensal"
   ]
  },
  {
   "cell_type": "markdown",
   "metadata": {},
   "source": [
    "Agrupando os valores de renda familiar mensal em faixas socioeconômicas mais amplas para facilitar a análise"
   ]
  },
  {
   "cell_type": "code",
   "execution_count": 237,
   "metadata": {},
   "outputs": [],
   "source": [
    "microdadosEnemRenda = clean_microdados.filter(items=['inscr|icao','nota_mt','nota_redacao','renda_familiar_mensal'])"
   ]
  },
  {
   "cell_type": "code",
   "execution_count": 240,
   "metadata": {},
   "outputs": [],
   "source": [
    "microdadosEnemRenda['renda_familiar_mensal'] = microdadosEnemRenda['renda_familiar_mensal'].replace(to_replace={\n",
    "    'Até R$ 1.212,00': 'Renda baixa',\n",
    "    'R$ 1.212,01 - R$ 1.818,00': 'Renda baixa',\n",
    "    'R$ 1.818,01 - R$ 3.030,00': 'Renda média baixa',\n",
    "    'R$ 3.030,01 - R$ 4.848,00': 'Renda média baixa',\n",
    "    'R$ 4.848,01 - R$ 7.272,00': 'Renda média alta',\n",
    "    'R$ 7.272,01 - R$ 10.908,00': 'Renda média alta', \n",
    "    'R$ 10.908,01 - R$ 18.180,00': 'Renda alta',\n",
    "    'R$ 18.180,01 - R$ 24.240,00': 'Renda alta',\n",
    "    'Acima de R$ 24.240,00': 'Renda alta'\n",
    "})"
   ]
  },
  {
   "cell_type": "markdown",
   "metadata": {},
   "source": [
    "Filtrando as colunas necessárias para análise da renda vs correlação com as notas de redação e matemática"
   ]
  },
  {
   "cell_type": "code",
   "execution_count": 241,
   "metadata": {},
   "outputs": [
    {
     "data": {
      "text/html": [
       "<div>\n",
       "<style scoped>\n",
       "    .dataframe tbody tr th:only-of-type {\n",
       "        vertical-align: middle;\n",
       "    }\n",
       "\n",
       "    .dataframe tbody tr th {\n",
       "        vertical-align: top;\n",
       "    }\n",
       "\n",
       "    .dataframe thead th {\n",
       "        text-align: right;\n",
       "    }\n",
       "</style>\n",
       "<table border=\"1\" class=\"dataframe\">\n",
       "  <thead>\n",
       "    <tr style=\"text-align: right;\">\n",
       "      <th></th>\n",
       "      <th>nota_mt</th>\n",
       "    </tr>\n",
       "    <tr>\n",
       "      <th>renda_familiar_mensal</th>\n",
       "      <th></th>\n",
       "    </tr>\n",
       "  </thead>\n",
       "  <tbody>\n",
       "    <tr>\n",
       "      <th>Renda alta</th>\n",
       "      <td>661.320279</td>\n",
       "    </tr>\n",
       "    <tr>\n",
       "      <th>Renda média alta</th>\n",
       "      <td>597.064838</td>\n",
       "    </tr>\n",
       "    <tr>\n",
       "      <th>Renda média baixa</th>\n",
       "      <td>545.544232</td>\n",
       "    </tr>\n",
       "    <tr>\n",
       "      <th>Nenhuma Renda</th>\n",
       "      <td>518.184416</td>\n",
       "    </tr>\n",
       "    <tr>\n",
       "      <th>Renda baixa</th>\n",
       "      <td>511.402167</td>\n",
       "    </tr>\n",
       "  </tbody>\n",
       "</table>\n",
       "</div>"
      ],
      "text/plain": [
       "                          nota_mt\n",
       "renda_familiar_mensal            \n",
       "Renda alta             661.320279\n",
       "Renda média alta       597.064838\n",
       "Renda média baixa      545.544232\n",
       "Nenhuma Renda          518.184416\n",
       "Renda baixa            511.402167"
      ]
     },
     "execution_count": 241,
     "metadata": {},
     "output_type": "execute_result"
    }
   ],
   "source": [
    "microdadosEnemRenda.filter(items=['nota_mt','renda_familiar_mensal']).groupby('renda_familiar_mensal').mean().sort_values(by='nota_mt', ascending=False)"
   ]
  },
  {
   "cell_type": "code",
   "execution_count": 242,
   "metadata": {},
   "outputs": [
    {
     "data": {
      "text/plain": [
       "[Text(0, 0, '661.3'),\n",
       " Text(0, 0, '597.1'),\n",
       " Text(0, 0, '545.5'),\n",
       " Text(0, 0, '518.2'),\n",
       " Text(0, 0, '511.4')]"
      ]
     },
     "execution_count": 242,
     "metadata": {},
     "output_type": "execute_result"
    },
    {
     "data": {
      "image/png": "[encoded data removed]",
      "text/plain": [
       "<Figure size 640x480 with 1 Axes>"
      ]
     },
     "metadata": {},
     "output_type": "display_data"
    }
   ],
   "source": [
    "ax = microdadosEnemRenda.filter(items=['nota_mt','renda_familiar_mensal'])\\\n",
    "    .groupby('renda_familiar_mensal').mean().sort_values(by='nota_mt', ascending=False).plot(kind='barh', legend=False)\n",
    "ax.set_ylabel('Renda Familiar Mensal')\n",
    "ax.set_xlabel('Média da Nota de Redação')\n",
    "ax.set_title('Média da Nota de Redação por Renda Familiar Mensal')\n",
    "ax.set_yticklabels(ax.get_yticklabels(), rotation=0)\n",
    "ax.bar_label(ax.containers[0], fmt='%.1f')"
   ]
  },
  {
   "cell_type": "code",
   "execution_count": 243,
   "metadata": {},
   "outputs": [
    {
     "data": {
      "text/html": [
       "<div>\n",
       "<style scoped>\n",
       "    .dataframe tbody tr th:only-of-type {\n",
       "        vertical-align: middle;\n",
       "    }\n",
       "\n",
       "    .dataframe tbody tr th {\n",
       "        vertical-align: top;\n",
       "    }\n",
       "\n",
       "    .dataframe thead th {\n",
       "        text-align: right;\n",
       "    }\n",
       "</style>\n",
       "<table border=\"1\" class=\"dataframe\">\n",
       "  <thead>\n",
       "    <tr style=\"text-align: right;\">\n",
       "      <th></th>\n",
       "      <th>nota_redacao</th>\n",
       "    </tr>\n",
       "    <tr>\n",
       "      <th>renda_familiar_mensal</th>\n",
       "      <th></th>\n",
       "    </tr>\n",
       "  </thead>\n",
       "  <tbody>\n",
       "    <tr>\n",
       "      <th>Renda alta</th>\n",
       "      <td>674.556733</td>\n",
       "    </tr>\n",
       "    <tr>\n",
       "      <th>Renda média alta</th>\n",
       "      <td>591.311726</td>\n",
       "    </tr>\n",
       "    <tr>\n",
       "      <th>Renda média baixa</th>\n",
       "      <td>511.497372</td>\n",
       "    </tr>\n",
       "    <tr>\n",
       "      <th>Renda baixa</th>\n",
       "      <td>460.825515</td>\n",
       "    </tr>\n",
       "    <tr>\n",
       "      <th>Nenhuma Renda</th>\n",
       "      <td>454.006839</td>\n",
       "    </tr>\n",
       "  </tbody>\n",
       "</table>\n",
       "</div>"
      ],
      "text/plain": [
       "                       nota_redacao\n",
       "renda_familiar_mensal              \n",
       "Renda alta               674.556733\n",
       "Renda média alta         591.311726\n",
       "Renda média baixa        511.497372\n",
       "Renda baixa              460.825515\n",
       "Nenhuma Renda            454.006839"
      ]
     },
     "execution_count": 243,
     "metadata": {},
     "output_type": "execute_result"
    }
   ],
   "source": [
    "microdadosEnemRenda.filter(items=['nota_redacao','renda_familiar_mensal']).groupby('renda_familiar_mensal').mean().sort_values(by='nota_redacao', ascending=False)"
   ]
  },
  {
   "cell_type": "code",
   "execution_count": 244,
   "metadata": {},
   "outputs": [
    {
     "data": {
      "text/plain": [
       "[Text(0, 0, '674.6'),\n",
       " Text(0, 0, '591.3'),\n",
       " Text(0, 0, '511.5'),\n",
       " Text(0, 0, '460.8'),\n",
       " Text(0, 0, '454.0')]"
      ]
     },
     "execution_count": 244,
     "metadata": {},
     "output_type": "execute_result"
    },
    {
     "data": {
      "image/png": "[encoded data removed]",
      "text/plain": [
       "<Figure size 640x480 with 1 Axes>"
      ]
     },
     "metadata": {},
     "output_type": "display_data"
    }
   ],
   "source": [
    "ax = microdadosEnemRenda.filter(items=['nota_redacao','renda_familiar_mensal'])\\\n",
    "    .groupby('renda_familiar_mensal').mean().sort_values(by='nota_redacao', ascending=False).plot(kind='barh', legend=False)\n",
    "ax.set_ylabel('Renda Familiar Mensal')\n",
    "ax.set_xlabel('Média da Nota de Redação')\n",
    "ax.set_title('Média da Nota de Redação por Renda Familiar Mensal')\n",
    "ax.set_yticklabels(ax.get_yticklabels(), rotation=0)\n",
    "ax.bar_label(ax.containers[0], fmt='%.1f')"
   ]
  },
  {
   "cell_type": "markdown",
   "metadata": {},
   "source": [
    "### Análise de diferença de pontuação entre candidados de maior renda e nenhuma renda"
   ]
  },
  {
   "cell_type": "code",
   "execution_count": 245,
   "metadata": {},
   "outputs": [
    {
     "name": "stdout",
     "output_type": "stream",
     "text": [
      "Média da nota de redação por faixa de renda:\n",
      "renda_familiar_mensal\n",
      "Renda alta           674.556733\n",
      "Renda média alta     591.311726\n",
      "Renda média baixa    511.497372\n",
      "Renda baixa          460.825515\n",
      "Nenhuma Renda        454.006839\n",
      "Name: nota_redacao, dtype: float64\n",
      "\n",
      "Diferença absoluta: 220.55 pontos\n",
      "Diferença relativa: 1.49x\n"
     ]
    }
   ],
   "source": [
    "# Calculate the difference in average nota_redacao between each renda_familiar_mensal group\n",
    "avg_redacao_by_renda = microdadosEnemRenda.groupby('renda_familiar_mensal')['nota_redacao'].mean().sort_values(ascending=False)\n",
    "\n",
    "# Compute the absolute and relative differences between the highest and lowest average\n",
    "highest = avg_redacao_by_renda.iloc[0]\n",
    "lowest = avg_redacao_by_renda.iloc[-1]\n",
    "absolute_diff = highest - lowest\n",
    "relative_diff = highest / lowest if lowest != 0 else float('inf')\n",
    "\n",
    "print(\"Média da nota de redação por faixa de renda:\")\n",
    "print(avg_redacao_by_renda)\n",
    "print(f\"\\nDiferença absoluta: {absolute_diff:.2f} pontos\")\n",
    "print(f\"Diferença relativa: {relative_diff:.2f}x\")"
   ]
  },
  {
   "cell_type": "markdown",
   "metadata": {},
   "source": [
    "É possível perceber que, em média, quanto maior a renda familiar mensal, maior a nota do candidato. Candidatos com renda acima de R$ 24.240,00 obtiveram uma nota de redação média 1.49 vezes maior que candidatos com nenhuma renda, totalizando uma diferença absoluta de aproximadamente 220 pontos."
   ]
  }
 ],
 "metadata": {
  "kernelspec": {
   "display_name": "base",
   "language": "python",
   "name": "python3"
  },
  "language_info": {
   "codemirror_mode": {
    "name": "ipython",
    "version": 3
   },
   "file_extension": ".py",
   "mimetype": "text/x-python",
   "name": "python",
   "nbconvert_exporter": "python",
   "pygments_lexer": "ipython3",
   "version": "3.12.7"
  }
 },
 "nbformat": 4,
 "nbformat_minor": 2
}
